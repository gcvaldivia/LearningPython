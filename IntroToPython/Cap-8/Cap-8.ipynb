{
 "cells": [
  {
   "cell_type": "markdown",
   "metadata": {},
   "source": [
    "### 8. Errors and Exceptions"
   ]
  },
  {
   "cell_type": "markdown",
   "metadata": {},
   "source": [
    "#### 8.3. Handling Exceptions"
   ]
  },
  {
   "cell_type": "markdown",
   "metadata": {},
   "source": [
    "A continuación veremos la instrucción `try`-`except`, la cual tendrán la siguiente forma en nuestro código:\n",
    "\n",
    "```\n",
    "    try:\n",
    "        condiciones_a_satisfacer\n",
    "    except Nombre_del_Erorr:\n",
    "        print(\"Mensaje asociado\")\n",
    "```\n",
    "Notamos que dentro del cuerpo de `try` existen condiciones sensibles de error, de tal forma que al generarse uno pasamos automaticamente al `except` (sin importr lo que haya debajo de la línea donde se produjo el error dentro del cuerpo del try) donde nos indica que si el error cometido es del tipo especificado por `Nombre_del_Error` en lugar de finalizar el programa debido a nuestro equivocación, lo que sucederá es la excepción del mismo y la impresión del mensaje asociado. Cuando la condición dentro de `try` se satisfaga pasamos por alto el `except`.\n",
    "\n",
    "A continuación veamos un ejemplo:"
   ]
  },
  {
   "cell_type": "code",
   "execution_count": 1,
   "metadata": {},
   "outputs": [
    {
     "name": "stdout",
     "output_type": "stream",
     "text": [
      "Please enter a number: 4\n",
      "resto del código\n"
     ]
    }
   ],
   "source": [
    "while True:\n",
    "    try:\n",
    "        x = int(input(\"Please enter a number: \"))\n",
    "        break\n",
    "    except ValueError:\n",
    "        print(\"Oops!  That was no valid number.  Try again...\")\n",
    "        \n",
    "\n",
    "print('resto del código')"
   ]
  },
  {
   "cell_type": "markdown",
   "metadata": {},
   "source": [
    "Evidentemente podremos incluir cuantas excepciones queramos para los posibles errores en el código."
   ]
  },
  {
   "cell_type": "code",
   "execution_count": 2,
   "metadata": {},
   "outputs": [
    {
     "name": "stdout",
     "output_type": "stream",
     "text": [
      "Ingresa el 1er número entero: 5\n",
      "Ingresa el 2do número entero: 8\n",
      "0.625\n",
      "resto del código\n"
     ]
    }
   ],
   "source": [
    "while True:\n",
    "    try:\n",
    "        x = int(input(\"Ingresa el 1er número entero: \"))\n",
    "        y = int(input(\"Ingresa el 2do número entero: \"))\n",
    "        print(x/y)\n",
    "        break\n",
    "    except ValueError:\n",
    "        print(\"Un entero pues. Se reinciará el ingreso de datos.\")\n",
    "    except ZeroDivisionError:\n",
    "        print(\"No seas tonto. Se reinciará el ingreso de datos.\")\n",
    "        \n",
    "\n",
    "print('resto del código')"
   ]
  },
  {
   "cell_type": "code",
   "execution_count": 3,
   "metadata": {},
   "outputs": [
    {
     "name": "stdout",
     "output_type": "stream",
     "text": [
      "1er número: 2\n",
      "2do número: 4\n",
      "0.5\n",
      "resto del código\n"
     ]
    }
   ],
   "source": [
    "def div(x,y):\n",
    "    try:\n",
    "        return x/y\n",
    "    except ZeroDivisionError:\n",
    "        return '¿Eres tonto?'\n",
    "\n",
    "a=float(input('1er número: '))\n",
    "b=float(input('2do número: '))\n",
    "\n",
    "print(div(a,b))\n",
    "\n",
    "\n",
    "print(\"resto del código\")"
   ]
  },
  {
   "cell_type": "markdown",
   "metadata": {},
   "source": [
    "Si queremos que algo se imprima independientemente de las excepciones introducidas usamos `finally`"
   ]
  },
  {
   "cell_type": "code",
   "execution_count": 4,
   "metadata": {},
   "outputs": [
    {
     "name": "stdout",
     "output_type": "stream",
     "text": [
      "1er número: 4\n",
      "2do número: 6\n",
      "Mi pan shushushú\n",
      "0.6666666666666666\n",
      "resto del código\n"
     ]
    }
   ],
   "source": [
    "def div(x,y):\n",
    "    try:\n",
    "        return x/y\n",
    "    except ZeroDivisionError:\n",
    "        return '¿Eres tonto?'\n",
    "    finally:\n",
    "        print('Mi pan shushushú')\n",
    "\n",
    "a=float(input('1er número: '))\n",
    "b=float(input('2do número: '))\n",
    "\n",
    "print(div(a,b))\n",
    "\n",
    "\n",
    "print(\"resto del código\")"
   ]
  },
  {
   "cell_type": "markdown",
   "metadata": {},
   "source": [
    "#### 8.4. Raising Exceptions\n",
    "\n",
    "Aquí tendremos la posibilidad de lanzar errores mediante la instrucción `raise`la cual tiene la siguiente forma:\n",
    "\n",
    "`raise Nombre_Error ('Mensaje asociado')`\n",
    "\n",
    "Donde `Nombre_Error` debe uno ya establecido por Python (ver por ejemplo este [enlace](https://www.programiz.com/python-programming/exceptions)). Evidentemente, una vez el error haya sido lanzado todo el programa se detendrá.\n",
    "\n",
    "Veamos el siguiente ejemplo:"
   ]
  },
  {
   "cell_type": "code",
   "execution_count": 5,
   "metadata": {},
   "outputs": [
    {
     "name": "stdout",
     "output_type": "stream",
     "text": [
      "Introduce un número: 12\n",
      "3.4641016151377544\n",
      "resto del código\n"
     ]
    }
   ],
   "source": [
    "from math import sqrt\n",
    "\n",
    "def raiz(x):\n",
    "    if x<0:\n",
    "        raise ValueError ('Lo hiciste mal')\n",
    "    return sqrt(x)\n",
    "\n",
    "a=float(input('Introduce un número: '))\n",
    "print(raiz(a))\n",
    "\n",
    "print('resto del código')"
   ]
  },
  {
   "cell_type": "markdown",
   "metadata": {},
   "source": [
    "También podemos generar una excepción al error que estamos llamando, para ello tenemos que tener cuidado de especificar el mismo nombre de error que hayamos insertado previamente."
   ]
  },
  {
   "cell_type": "code",
   "execution_count": 6,
   "metadata": {},
   "outputs": [
    {
     "name": "stdout",
     "output_type": "stream",
     "text": [
      "Introduce un número: 45\n",
      "6.708203932499369\n",
      "resto del código\n"
     ]
    }
   ],
   "source": [
    "from math import sqrt\n",
    "\n",
    "def raiz(x):\n",
    "    if x<0:\n",
    "        raise ValueError ('Lo hiciste mal')\n",
    "    return sqrt(x)\n",
    "\n",
    "a=float(input('Introduce un número: '))\n",
    "\n",
    "try:\n",
    "    print(raiz(a))\n",
    "except ValueError:\n",
    "    print('Eres tonto')\n",
    "\n",
    "print('resto del código')"
   ]
  }
 ],
 "metadata": {
  "kernelspec": {
   "display_name": "Python 3",
   "language": "python",
   "name": "python3"
  },
  "language_info": {
   "codemirror_mode": {
    "name": "ipython",
    "version": 3
   },
   "file_extension": ".py",
   "mimetype": "text/x-python",
   "name": "python",
   "nbconvert_exporter": "python",
   "pygments_lexer": "ipython3",
   "version": "3.8.3"
  }
 },
 "nbformat": 4,
 "nbformat_minor": 4
}
