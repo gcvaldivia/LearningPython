{
 "cells": [
  {
   "cell_type": "markdown",
   "metadata": {},
   "source": [
    "### 7. Input and Output"
   ]
  },
  {
   "cell_type": "markdown",
   "metadata": {},
   "source": [
    "#### 7.1. Fancier Output Formatting"
   ]
  },
  {
   "cell_type": "markdown",
   "metadata": {},
   "source": [
    "`repr()` compute the “official” string representation of an object (a representation that has all information about the object) and `str()` is used to compute the “informal” string representation of an object (a representation that is useful for printing the object).\n",
    "\n",
    "Let us see an example:"
   ]
  },
  {
   "cell_type": "code",
   "execution_count": 1,
   "metadata": {},
   "outputs": [
    {
     "name": "stdout",
     "output_type": "stream",
     "text": [
      "2020-09-17 07:54:19.564235\n",
      "datetime.datetime(2020, 9, 17, 7, 54, 19, 564235)\n"
     ]
    }
   ],
   "source": [
    "import datetime \n",
    "today = datetime.datetime.now() \n",
    "  \n",
    "# Prints readable format for date-time object \n",
    "print(str(today))\n",
    "  \n",
    "# prints the official format of date-time object \n",
    "print(repr(today))"
   ]
  },
  {
   "cell_type": "markdown",
   "metadata": {},
   "source": [
    "`str()` displays today’s date in a way that the user can understand the date and time.\n",
    "\n",
    "`repr()` prints “official” representation of a date-time object (means using the “official” string representation we can reconstruct the object)."
   ]
  },
  {
   "cell_type": "markdown",
   "metadata": {},
   "source": [
    "#### 7.1.1. Formatted String Literals\n",
    "\n",
    "También denominado *f-strings*. Si anteponemos la letra `f` o `F` a un string podremos imprimirlo directamente. Además podemos imprimir el valor almacenado opor una variable colocándo el nombre de dicha variable dentro del string entre llaves `{` `}`. Además, podremos dar indicaciones específicas para la impresión insertando `:` dentro de las llaves.\n",
    "\n",
    "Revisar [Format String Syntax](https://docs.python.org/3/library/string.html#formatstrings) para revisar las formas posibles de agregar indicaciones."
   ]
  },
  {
   "cell_type": "code",
   "execution_count": 2,
   "metadata": {
    "scrolled": true
   },
   "outputs": [
    {
     "data": {
      "text/plain": [
       "'El Examen de Admisión del 2020 será un acontecimiento'"
      ]
     },
     "execution_count": 2,
     "metadata": {},
     "output_type": "execute_result"
    }
   ],
   "source": [
    "año=2020\n",
    "evento='Examen de Admisión'\n",
    "f'El {evento} del {año} será un acontecimiento'\n"
   ]
  },
  {
   "cell_type": "code",
   "execution_count": 3,
   "metadata": {},
   "outputs": [
    {
     "name": "stdout",
     "output_type": "stream",
     "text": [
      "El valor de pi es aproximadamente 3.1416.\n"
     ]
    }
   ],
   "source": [
    "# También podemos usar print para imprimir sin comillas\n",
    "\n",
    "import math\n",
    "print(f'El valor de pi es aproximadamente {math.pi:.4f}.')\n",
    "\n",
    "# Luego de ':' pusimos '.4f' lo cual significa:\n",
    "# '.' -> Hacemos referencia al número decimal\n",
    "# '4f' -> Indica que deseamos presentar el valor de pi \n",
    "#         con 4 decimales. Sin la 'f' sólo se presentarían\n",
    "#         3 decimales."
   ]
  },
  {
   "cell_type": "code",
   "execution_count": 4,
   "metadata": {},
   "outputs": [
    {
     "name": "stdout",
     "output_type": "stream",
     "text": [
      "Carlos   ==> 3592345\n",
      "Fernando ==> 5678923\n",
      "Alex     ==> 2345489\n"
     ]
    }
   ],
   "source": [
    "directorio = {'Carlos': 3592345, 'Fernando': 5678923,'Alex': 2345489}\n",
    "for nom, num in directorio.items():\n",
    "    print(f'{nom:8} ==> {num:7d}')\n",
    "    \n",
    "# Luego de ':' hemos agregado números, en el primer \n",
    "# caso sólo el '8', lo cual significa que la variable va a\n",
    "# ocupar un espacio total de 8 caracteres. Por ello, todos\n",
    "# los nombres tienen la flecha alineada a la misma altura.\n",
    "# En el segundo caso tenemos '7d', lo cual significa que\n",
    "# a la variable le damos un espacio de 7 caracteres, y\n",
    "# como es un valor numérico se imprimirá en base decimal, \n",
    "# por ello se usa la letra 'd'."
   ]
  },
  {
   "cell_type": "markdown",
   "metadata": {},
   "source": [
    "#### 7.1.2. The String format( ) Method\n",
    "\n",
    "En este método las variables se agregan en el argumento de `string.format()`. Mientras que en el string usarán las llaves `{` `}` para dar indicaciones tal como vimos arriba."
   ]
  },
  {
   "cell_type": "code",
   "execution_count": 5,
   "metadata": {},
   "outputs": [
    {
     "data": {
      "text/plain": [
       "'42572654 Votos a favor -> 49.67%'"
      ]
     },
     "execution_count": 5,
     "metadata": {},
     "output_type": "execute_result"
    }
   ],
   "source": [
    "voto_favor = 42572654\n",
    "voto_contra = 43132495\n",
    "porcentaje = voto_favor/(voto_favor+voto_contra)\n",
    "\n",
    "'{} Votos a favor -> {:.2%}'.format(voto_favor,porcentaje)\n",
    "\n",
    "# 1ro: Tenemos dos '{}', si no hacemos ninguno especificación\n",
    "# respecto de su orden, entonces el orden de las llaves\n",
    "# corresponderá al orden con el cual se presentan las variables\n",
    "# en el argumento 'string.format()'.\n",
    "\n",
    "# 2do: En la primera llave no incluímos nada, entonces se\n",
    "# imprime tal cual. En la segunda llave ponemos '.2%', lo\n",
    "# cual significa que vamos a usar dos decimales y lo expre-\n",
    "# saremos como porcentaje."
   ]
  },
  {
   "cell_type": "markdown",
   "metadata": {},
   "source": [
    "También podemos especificar el orden en el cual imprimiremos las variables en el argumento:"
   ]
  },
  {
   "cell_type": "code",
   "execution_count": 6,
   "metadata": {},
   "outputs": [
    {
     "name": "stdout",
     "output_type": "stream",
     "text": [
      "La casa verde\n"
     ]
    }
   ],
   "source": [
    "valor_1='casa'\n",
    "valor_2='verde'\n",
    "print('La {} {}'.format(valor_1,valor_2))"
   ]
  },
  {
   "cell_type": "code",
   "execution_count": 7,
   "metadata": {},
   "outputs": [
    {
     "name": "stdout",
     "output_type": "stream",
     "text": [
      "La casa verde\n"
     ]
    }
   ],
   "source": [
    "# Aquí no hay cambios, todo sigue tal cual.\n",
    "valor_1='casa'\n",
    "valor_2='verde'\n",
    "print('La {0} {1}'.format(valor_1,valor_2))"
   ]
  },
  {
   "cell_type": "code",
   "execution_count": 8,
   "metadata": {},
   "outputs": [
    {
     "name": "stdout",
     "output_type": "stream",
     "text": [
      "La verde casa\n"
     ]
    }
   ],
   "source": [
    "# Aquí invertimos el orden.\n",
    "valor_1='casa'\n",
    "valor_2='verde'\n",
    "print('La {1} {0}'.format(valor_1,valor_2))"
   ]
  },
  {
   "cell_type": "markdown",
   "metadata": {},
   "source": [
    "Podemos usar *argumentos posicionales*."
   ]
  },
  {
   "cell_type": "code",
   "execution_count": 9,
   "metadata": {},
   "outputs": [
    {
     "name": "stdout",
     "output_type": "stream",
     "text": [
      "imprimo el valor 2 y luego el valor 1\n"
     ]
    }
   ],
   "source": [
    "print('imprimo el {1} y luego el {0}'.format('valor 1','valor 2'))"
   ]
  },
  {
   "cell_type": "markdown",
   "metadata": {},
   "source": [
    "Podemos usar *keyword arguments*"
   ]
  },
  {
   "cell_type": "code",
   "execution_count": 10,
   "metadata": {},
   "outputs": [
    {
     "name": "stdout",
     "output_type": "stream",
     "text": [
      "Este arroz con pollo está riquisimo\n"
     ]
    }
   ],
   "source": [
    "print('Este {comida} está {sabor}'.format(comida='arroz con pollo',sabor='riquisimo'))"
   ]
  },
  {
   "cell_type": "markdown",
   "metadata": {},
   "source": [
    "Veamos un ejemplo usando diccionarios."
   ]
  },
  {
   "cell_type": "code",
   "execution_count": 11,
   "metadata": {},
   "outputs": [
    {
     "data": {
      "text/plain": [
       "'val-1'"
      ]
     },
     "execution_count": 11,
     "metadata": {},
     "output_type": "execute_result"
    }
   ],
   "source": [
    "d_1={'key-1':'val-1','key-2':3575,'key-3':'val-3'}\n",
    "\n",
    "# Como sabemos la información de los valores se extrae de la\n",
    "# siguiente manera:\n",
    "d_1['key-1']"
   ]
  },
  {
   "cell_type": "code",
   "execution_count": 12,
   "metadata": {},
   "outputs": [
    {
     "name": "stdout",
     "output_type": "stream",
     "text": [
      "El valor de key-1 es val-1, mientras que el valor binario de key-2 es 110111110111\n"
     ]
    }
   ],
   "source": [
    "# Por lo tanto, al usar 0 dentro de las llaves, lo que\n",
    "# estamos haciendo es llamar a la variable en el \n",
    "# argumento: d_1. Asimismo, ya no es necesario colocar\n",
    "# entre comillas el key:\n",
    "\n",
    "print('El valor de key-1 es {0[key-1]}, mientras que el valor binario de key-2 es {0[key-2]:b}'.format(d_1))\n",
    "\n",
    "# Notar que en la segunda llave hemos usando 'b' lo cual\n",
    "# significa que el valor numérico será transformado a\n",
    "# binario."
   ]
  },
  {
   "cell_type": "code",
   "execution_count": 13,
   "metadata": {},
   "outputs": [
    {
     "name": "stdout",
     "output_type": "stream",
     "text": [
      "Valor N. 1:    1    1    1\n",
      "Valor N. 2:    2    4    8\n",
      "Valor N. 3:    3    9   27\n",
      "Valor N. 4:    4   16   64\n",
      "Valor N. 5:    5   25  125\n",
      "Valor N. 6:    6   36  216\n",
      "Valor N. 7:    7   49  343\n",
      "Valor N. 8:    8   64  512\n",
      "Valor N. 9:    9   81  729\n",
      "Valor N.10:   10  100 1000\n"
     ]
    }
   ],
   "source": [
    "# Creamos tres colomnas de valores bien alineados\n",
    "\n",
    "for i in range(1,11):\n",
    "    print('Valor N.{:2}:{:5}{:5}{:5}'.format(i,i,i**2,i**3))"
   ]
  },
  {
   "cell_type": "markdown",
   "metadata": {},
   "source": [
    "#### 7.1.3. Manual String Formatting"
   ]
  },
  {
   "cell_type": "markdown",
   "metadata": {},
   "source": [
    "Aquí usaremos los siguientes métodos:\n",
    "\n",
    "**Alineación**\n",
    "* `str.rjust()`: Alínea un objeto hacia la derecha dentro del espacio generado por la cantidad de caracteres designados.\n",
    "* `str.ljust()`: Alínea un objeto hacia la izquierda dentro del espacio generado por la cantidad de caracteres designados.\n",
    "* `str.ljust()`: Alínea un objeto en el centro del espacio generado por la cantidad de caracteres designados.\n",
    "\n",
    "En estos casos, cuando la palabra a ubicar sea más grande que el espacio generado podemos generar un truncamiento de `n` espacios agregando `[:n]`, por ejemplo: `string.ljust(n)[:n]`.\n",
    "\n",
    "**Agregar ceros a la izquierda**\n",
    "\n",
    "* `str.zfill()`: Sólo funciona con strings numéricos. en el argumento agregamos la cantidad total de digitos que queremos mostrar, por ejemplo: `'34'.zfill(5)` nos dara como resultado `00034`."
   ]
  },
  {
   "cell_type": "code",
   "execution_count": 14,
   "metadata": {},
   "outputs": [
    {
     "name": "stdout",
     "output_type": "stream",
     "text": [
      "El                   canal 4\n"
     ]
    }
   ],
   "source": [
    "print('El','canal'.rjust(23),4)"
   ]
  },
  {
   "cell_type": "code",
   "execution_count": 15,
   "metadata": {},
   "outputs": [
    {
     "name": "stdout",
     "output_type": "stream",
     "text": [
      "El canal                   4\n"
     ]
    }
   ],
   "source": [
    "print('El','canal'.ljust(23),4)"
   ]
  },
  {
   "cell_type": "code",
   "execution_count": 16,
   "metadata": {},
   "outputs": [
    {
     "name": "stdout",
     "output_type": "stream",
     "text": [
      "El          canal          4\n"
     ]
    }
   ],
   "source": [
    "print('El','canal'.center(23),4)"
   ]
  },
  {
   "cell_type": "code",
   "execution_count": 17,
   "metadata": {},
   "outputs": [
    {
     "name": "stdout",
     "output_type": "stream",
     "text": [
      "El ca 4\n"
     ]
    }
   ],
   "source": [
    "print('El','canal'.rjust(2)[:2],4)"
   ]
  },
  {
   "cell_type": "code",
   "execution_count": 18,
   "metadata": {},
   "outputs": [
    {
     "name": "stdout",
     "output_type": "stream",
     "text": [
      "El agente 007\n"
     ]
    }
   ],
   "source": [
    "print('El agente','7'.zfill(3))"
   ]
  },
  {
   "cell_type": "markdown",
   "metadata": {},
   "source": [
    "#### 7.1.4. Old string formatting\n",
    "\n",
    "Aquí en lugar de insertar `{` `}` para llamar a una variable, usaremos `%` seguido de `(` `)` dónde tendremos las variables, inmediantemente después le asignaremos el formato, el cual seguirá las reglas vistas en [printf-style String Formatting](https://docs.python.org/3/library/stdtypes.html#old-string-formatting).\n",
    "\n",
    "Veamos a continuación un ejemplo:"
   ]
  },
  {
   "cell_type": "code",
   "execution_count": 19,
   "metadata": {},
   "outputs": [
    {
     "name": "stdout",
     "output_type": "stream",
     "text": [
      "45.348900 truncado a 2 decimales es 45.35\n"
     ]
    }
   ],
   "source": [
    "print('%(n)f truncado a 2 decimales es %(n).2f' % {'n':45.3489})"
   ]
  },
  {
   "cell_type": "markdown",
   "metadata": {},
   "source": [
    "#### 7.2. Reading and Writing Files"
   ]
  },
  {
   "cell_type": "markdown",
   "metadata": {},
   "source": [
    "\n",
    "\n",
    "**file** : The path and name of the file.\n",
    "\n",
    "**mode** : A string, define which mode you want to open the file in:\n",
    "\n",
    "|   |   |\n",
    "|:---|:---|\n",
    "|   | \"r\" - Read - Default value. Opens a file for reading, error if the file does not exist |\n",
    "|   | \"a\" - Append - Opens a file for appending, creates the file if it does not exist |\n",
    "|   | \"w\" - Write - Opens a file for writing, creates the file if it does not exist |\n",
    "|   | \"x\" - Create - Creates the specified file, returns an error if the file exist |\n",
    "\n",
    "In addition you can specify if the file should be handled as binary or text mode\n",
    "\n",
    "|   |   |\n",
    "|:---|:---|\n",
    "|   | \"t\" - Text - Default value. Text mode |\n",
    "|   | \"b\" - Binary - Binary mode (e.g. images) |"
   ]
  },
  {
   "cell_type": "code",
   "execution_count": 20,
   "metadata": {},
   "outputs": [],
   "source": [
    "# Creamos un archivo vacío\n",
    "f = open(\"file.txt\", \"x\") #->Si el archivo ya existe dará un error."
   ]
  },
  {
   "cell_type": "code",
   "execution_count": 21,
   "metadata": {},
   "outputs": [],
   "source": [
    "# Agregamos contenido\n",
    "f = open(\"file.txt\", \"a\")\n",
    "f.write(\"¡Qué locazo!\")\n",
    "f.close()"
   ]
  },
  {
   "cell_type": "code",
   "execution_count": 22,
   "metadata": {},
   "outputs": [
    {
     "name": "stdout",
     "output_type": "stream",
     "text": [
      "¡Qué locazo!\n"
     ]
    }
   ],
   "source": [
    "# Leemos el arrchivo\n",
    "f = open(\"file.txt\", \"r\")\n",
    "print(f.read())"
   ]
  },
  {
   "cell_type": "code",
   "execution_count": 23,
   "metadata": {},
   "outputs": [],
   "source": [
    "# Agregamos contenido sobreescribiendo el anterior\n",
    "f = open(\"file.txt\", \"w\")\n",
    "f.write(\"¡Habla, causa!\")\n",
    "f.close()"
   ]
  },
  {
   "cell_type": "code",
   "execution_count": 24,
   "metadata": {},
   "outputs": [
    {
     "name": "stdout",
     "output_type": "stream",
     "text": [
      "¡Habla, causa!\n"
     ]
    }
   ],
   "source": [
    "# Leemos el arrchivo\n",
    "f = open(\"file.txt\", \"r\")\n",
    "print(f.read())"
   ]
  },
  {
   "cell_type": "code",
   "execution_count": 25,
   "metadata": {},
   "outputs": [],
   "source": [
    "# También podemos leer una línea en específico\n",
    "\n",
    "# Por ejemplo, a continuación leeremos la línea 5:\n",
    "# f = open(\"demofile.txt\", \"r\")\n",
    "# print(f.read(5))"
   ]
  }
 ],
 "metadata": {
  "kernelspec": {
   "display_name": "Python 3",
   "language": "python",
   "name": "python3"
  },
  "language_info": {
   "codemirror_mode": {
    "name": "ipython",
    "version": 3
   },
   "file_extension": ".py",
   "mimetype": "text/x-python",
   "name": "python",
   "nbconvert_exporter": "python",
   "pygments_lexer": "ipython3",
   "version": "3.8.3"
  }
 },
 "nbformat": 4,
 "nbformat_minor": 4
}
