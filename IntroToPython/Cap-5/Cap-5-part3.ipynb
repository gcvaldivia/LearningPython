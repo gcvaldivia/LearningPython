{
 "cells": [
  {
   "cell_type": "markdown",
   "metadata": {},
   "source": [
    "### 5.6. Looping Techniques"
   ]
  },
  {
   "cell_type": "code",
   "execution_count": 1,
   "metadata": {},
   "outputs": [
    {
     "data": {
      "text/plain": [
       "{2: 4, 4: 16, 6: 36}"
      ]
     },
     "execution_count": 1,
     "metadata": {},
     "output_type": "execute_result"
    }
   ],
   "source": [
    "dic2={x:x**2 for x in [2,4,6]}\n",
    "dic2"
   ]
  },
  {
   "cell_type": "code",
   "execution_count": 2,
   "metadata": {},
   "outputs": [
    {
     "name": "stdout",
     "output_type": "stream",
     "text": [
      "2\n",
      "4\n",
      "6\n"
     ]
    }
   ],
   "source": [
    "#Podemos iterar no sólo el 'key' de un diccionario\n",
    "\n",
    "for i in dic2:\n",
    "    print(i)"
   ]
  },
  {
   "cell_type": "code",
   "execution_count": 3,
   "metadata": {},
   "outputs": [
    {
     "name": "stdout",
     "output_type": "stream",
     "text": [
      "(2, 4)\n",
      "(4, 16)\n",
      "(6, 36)\n"
     ]
    }
   ],
   "source": [
    "#sino también sus 'values' mediante la instrucción \n",
    "#.items(). Esto ya se ha estudiado antes, recordemos que\n",
    "#se denomina item a la tupla conformada por el key y \n",
    "#el value: (key,value)\n",
    "\n",
    "for i in dic2.items():\n",
    "    print(i)"
   ]
  },
  {
   "cell_type": "code",
   "execution_count": 4,
   "metadata": {},
   "outputs": [
    {
     "name": "stdout",
     "output_type": "stream",
     "text": [
      "2 4\n",
      "4 16\n",
      "6 36\n"
     ]
    }
   ],
   "source": [
    "#Por lo tanto, ahora tenemos la libertad de usar otro\n",
    "#índice para recorrer el interior de cada tupla\n",
    "\n",
    "for i,j in dic2.items():\n",
    "    print(i,j)"
   ]
  },
  {
   "cell_type": "code",
   "execution_count": 5,
   "metadata": {},
   "outputs": [
    {
     "data": {
      "text/plain": [
       "['tic', 'tac', 'toe']"
      ]
     },
     "execution_count": 5,
     "metadata": {},
     "output_type": "execute_result"
    }
   ],
   "source": [
    "#En una determinada secuencia podemos extraer a la vez\n",
    "#el índice y el valor correspondiente mediante la \n",
    "#instrucción enumerate()\n",
    "\n",
    "clock=['tic','tac','toe']\n",
    "clock"
   ]
  },
  {
   "cell_type": "code",
   "execution_count": 6,
   "metadata": {},
   "outputs": [
    {
     "data": {
      "text/plain": [
       "<enumerate at 0x7faf19b9b780>"
      ]
     },
     "execution_count": 6,
     "metadata": {},
     "output_type": "execute_result"
    }
   ],
   "source": [
    "enumerate(clock)"
   ]
  },
  {
   "cell_type": "code",
   "execution_count": 7,
   "metadata": {},
   "outputs": [
    {
     "data": {
      "text/plain": [
       "[(0, 'tic'), (1, 'tac'), (2, 'toe')]"
      ]
     },
     "execution_count": 7,
     "metadata": {},
     "output_type": "execute_result"
    }
   ],
   "source": [
    "list(enumerate(clock))"
   ]
  },
  {
   "cell_type": "code",
   "execution_count": 8,
   "metadata": {},
   "outputs": [
    {
     "name": "stdout",
     "output_type": "stream",
     "text": [
      "0 tic\n",
      "1 tac\n",
      "2 toe\n"
     ]
    }
   ],
   "source": [
    "#Por lo tanto\n",
    "for i,j in enumerate(clock):\n",
    "    print(i,j)"
   ]
  },
  {
   "cell_type": "code",
   "execution_count": 9,
   "metadata": {},
   "outputs": [
    {
     "data": {
      "text/plain": [
       "[('chucha', 'quieres'), ('mierda', 'necesitas'), ('putas', 'tienes')]"
      ]
     },
     "execution_count": 9,
     "metadata": {},
     "output_type": "execute_result"
    }
   ],
   "source": [
    "#La mejor forma de iterar sobre dos o más iterables al\n",
    "#al mismo tiempo es usando la instrucción 'zip()'\n",
    "\n",
    "p=['chucha','mierda','putas']\n",
    "q=['quieres','necesitas','tienes']\n",
    "\n",
    "tup=zip(p,q)\n",
    "list(tup)"
   ]
  },
  {
   "cell_type": "code",
   "execution_count": 10,
   "metadata": {},
   "outputs": [
    {
     "name": "stdout",
     "output_type": "stream",
     "text": [
      "¿Qué chucha quieres?\n",
      "¿Qué mierda necesitas?\n",
      "¿Qué putas tienes?\n"
     ]
    }
   ],
   "source": [
    "#Podemos usar la instrucción '.format()', la cual sirve\n",
    "#retornar valores en el string donde usemos llaves '{}'.\n",
    "#Tiene la siguiente forma:\n",
    "\n",
    "# string_que_incluye_llaves.forma(variable por cada llave)\n",
    "\n",
    "#Esto se puede realizar de 3 formas:\n",
    "\n",
    "#Forma 1: \n",
    "#Al dejar vacías las llaves los valores van a ingresar en\n",
    "#el mismo order de las variables.\n",
    "\n",
    "for i,j in zip(p,q):\n",
    "    print('¿Qué {} {}?'.format(i,j))"
   ]
  },
  {
   "cell_type": "code",
   "execution_count": 11,
   "metadata": {},
   "outputs": [
    {
     "name": "stdout",
     "output_type": "stream",
     "text": [
      "¿Qué quieres chucha?\n",
      "¿Qué necesitas mierda?\n",
      "¿Qué tienes putas?\n"
     ]
    }
   ],
   "source": [
    "#Forma 2:\n",
    "#El orden se puede especificar con número que van desed\n",
    "#el cero, a continuación en el string primero va 'j',\n",
    "#luego 'i'\n",
    "\n",
    "for i,j in zip(p,q):\n",
    "    print('¿Qué {1} {0}?'.format(i,j))"
   ]
  },
  {
   "cell_type": "code",
   "execution_count": 12,
   "metadata": {},
   "outputs": [
    {
     "name": "stdout",
     "output_type": "stream",
     "text": [
      "¿Qué chucha quieres?\n",
      "¿Qué mierda necesitas?\n",
      "¿Qué putas tienes?\n"
     ]
    }
   ],
   "source": [
    "#Esto va en orden\n",
    "\n",
    "for i,j in zip(p,q):\n",
    "    print('¿Qué {0} {1}?'.format(i,j))"
   ]
  },
  {
   "cell_type": "code",
   "execution_count": 13,
   "metadata": {},
   "outputs": [
    {
     "name": "stdout",
     "output_type": "stream",
     "text": [
      "¿Qué cosa quieres?\n",
      "¿Qué cosa quieres?\n",
      "¿Qué cosa quieres?\n"
     ]
    }
   ],
   "source": [
    "#Forma 3:\n",
    "#Usando Keyword Arguments\n",
    "\n",
    "for i,j in zip(p,q):\n",
    "    print('¿Qué {palabra1} {palabra2}?'.format(palabra1='cosa',palabra2='quieres'))\n",
    "    "
   ]
  },
  {
   "cell_type": "code",
   "execution_count": 14,
   "metadata": {},
   "outputs": [],
   "source": [
    "#Si queremos alterar una lista mientras iteramos, lo\n",
    "#mejor será crear una nueva lista"
   ]
  },
  {
   "cell_type": "markdown",
   "metadata": {},
   "source": [
    "> NaN , standing for not a number, is a numeric data type used to represent any value that is undefined or unpresentable. For example, 0/0.\n",
    "\n",
    "Podemos crear una variable 'NaN' usando la instrucción float() de cualquiera de las siguientes formas:\n",
    "\n",
    "```\n",
    "float(\"nan\")\n",
    "float(\"Nan\")\n",
    "float(\"NaN\")\n",
    "float(\"NAN\")\n",
    "```"
   ]
  },
  {
   "cell_type": "code",
   "execution_count": 15,
   "metadata": {},
   "outputs": [
    {
     "data": {
      "text/plain": [
       "False"
      ]
     },
     "execution_count": 15,
     "metadata": {},
     "output_type": "execute_result"
    }
   ],
   "source": [
    "import math\n",
    "#Mediante la siguiente instrucción podremos saber si un\n",
    "#determinado valor es 'NaN'\n",
    "math.isnan(4)"
   ]
  },
  {
   "cell_type": "code",
   "execution_count": 16,
   "metadata": {},
   "outputs": [
    {
     "data": {
      "text/plain": [
       "True"
      ]
     },
     "execution_count": 16,
     "metadata": {},
     "output_type": "execute_result"
    }
   ],
   "source": [
    "math.isnan(float('NaN'))"
   ]
  },
  {
   "cell_type": "code",
   "execution_count": 17,
   "metadata": {},
   "outputs": [
    {
     "data": {
      "text/plain": [
       "[1, 2.8, 12.5]"
      ]
     },
     "execution_count": 17,
     "metadata": {},
     "output_type": "execute_result"
    }
   ],
   "source": [
    "#A continuación vamos a crar una lista limpia de valores\n",
    "#'NaN' en la lista original\n",
    "\n",
    "data=[1,2.8,float('NaN'),12.5,float('NaN')]\n",
    "data_limpia=[]\n",
    "for i in data:\n",
    "    if math.isnan(i) == False:\n",
    "        data_limpia.append(i)\n",
    "data_limpia"
   ]
  },
  {
   "cell_type": "markdown",
   "metadata": {},
   "source": [
    "### 5.7. More on Conditions\n",
    "\n",
    "Tenemos el siguiente orden de jerarquìas para para los operadores booleanos:\n",
    "\n",
    "1. not\n",
    "2. and, or\n",
    "\n",
    "Por lo tanto:\n",
    "\n",
    "`A and not B or C` es equivalente a `A and (not B) or C`.\n",
    "\n",
    "Asimismo, cuando aplicamos los operadores `and`y `or` evaluamos de izquierda a derecha; tal que, la evaluación se detendrá cunado el `output` haya sido determinado."
   ]
  },
  {
   "cell_type": "code",
   "execution_count": 18,
   "metadata": {},
   "outputs": [
    {
     "name": "stdout",
     "output_type": "stream",
     "text": [
      "\n"
     ]
    }
   ],
   "source": [
    "#Ejemplo\n",
    "\n",
    "string1,string2,string3='','no vacío 1', 'no vacío 2'\n",
    "\n",
    "#En 'string1' tendremos nada\n",
    "print(string1)"
   ]
  },
  {
   "cell_type": "code",
   "execution_count": 19,
   "metadata": {},
   "outputs": [
    {
     "data": {
      "text/plain": [
       "'no vacío 1'"
      ]
     },
     "execution_count": 19,
     "metadata": {},
     "output_type": "execute_result"
    }
   ],
   "source": [
    "#Por lo tanto, en la siguiente operación\n",
    "no_vacio=string1 or string2 or string3\n",
    "\n",
    "#El output se será en string2, y por lo tanto ese será\n",
    "#el valor almacenado en la variable 'no_vacio'\n",
    "no_vacio"
   ]
  },
  {
   "cell_type": "markdown",
   "metadata": {},
   "source": [
    "### 5.8. Comparing Sequences and Other Types"
   ]
  },
  {
   "cell_type": "code",
   "execution_count": 20,
   "metadata": {},
   "outputs": [],
   "source": [
    "#Las comparaciones se realizan entre objetos del mismo\n",
    "#tipo, y no necesariamente valores sueltos, puedo tener,\n",
    "#como veremos a continuación, listas, tuplas y strings.\n",
    "\n",
    "#Primero se comparan los primeros términos, luego los\n",
    "#los segundos, y así sucesivamente.\n",
    "\n",
    "#Esta operación se detendrá cuando la comparación logre\n",
    "#ser determinada,si se obtiene una igualdad se pasará \n",
    "#al siguiente término, hasta que la secuencia sea barrida\n",
    "#por completo. Si comparamos una colección con una \n",
    "#subcolección de la colección anterior, la subcolección\n",
    "#será considera menor."
   ]
  },
  {
   "cell_type": "code",
   "execution_count": 21,
   "metadata": {},
   "outputs": [
    {
     "data": {
      "text/plain": [
       "True"
      ]
     },
     "execution_count": 21,
     "metadata": {},
     "output_type": "execute_result"
    }
   ],
   "source": [
    "(1, 2, 3)<(1, 2, 4)"
   ]
  },
  {
   "cell_type": "code",
   "execution_count": 22,
   "metadata": {},
   "outputs": [
    {
     "data": {
      "text/plain": [
       "True"
      ]
     },
     "execution_count": 22,
     "metadata": {},
     "output_type": "execute_result"
    }
   ],
   "source": [
    "[4,6]<[4,6,8]"
   ]
  },
  {
   "cell_type": "code",
   "execution_count": 23,
   "metadata": {},
   "outputs": [
    {
     "data": {
      "text/plain": [
       "True"
      ]
     },
     "execution_count": 23,
     "metadata": {},
     "output_type": "execute_result"
    }
   ],
   "source": [
    "'String'>'Falcon'"
   ]
  },
  {
   "cell_type": "code",
   "execution_count": 24,
   "metadata": {},
   "outputs": [
    {
     "data": {
      "text/plain": [
       "True"
      ]
     },
     "execution_count": 24,
     "metadata": {},
     "output_type": "execute_result"
    }
   ],
   "source": [
    "#A pesar que 'C' es un subconjunto de 'ABC', al evaluarse\n",
    "#en primer lugar la 'C' y la'A' obtenemos el output, \n",
    "#y listo.\n",
    "\n",
    "'ABC'<'C'"
   ]
  },
  {
   "cell_type": "code",
   "execution_count": 25,
   "metadata": {},
   "outputs": [
    {
     "data": {
      "text/plain": [
       "False"
      ]
     },
     "execution_count": 25,
     "metadata": {},
     "output_type": "execute_result"
    }
   ],
   "source": [
    "(3,4,9)<(2,3,1)"
   ]
  }
 ],
 "metadata": {
  "kernelspec": {
   "display_name": "Python 3",
   "language": "python",
   "name": "python3"
  },
  "language_info": {
   "codemirror_mode": {
    "name": "ipython",
    "version": 3
   },
   "file_extension": ".py",
   "mimetype": "text/x-python",
   "name": "python",
   "nbconvert_exporter": "python",
   "pygments_lexer": "ipython3",
   "version": "3.8.3"
  }
 },
 "nbformat": 4,
 "nbformat_minor": 4
}
