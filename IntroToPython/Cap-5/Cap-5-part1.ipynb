{
 "cells": [
  {
   "cell_type": "markdown",
   "metadata": {},
   "source": [
    "## 5. Data Structures\n",
    "\n",
    "Algunas cosas de este capítulo ya las hemos visto antes, ahora solo nos toca reforzar."
   ]
  },
  {
   "cell_type": "markdown",
   "metadata": {},
   "source": [
    "### 5.1. More on Lists"
   ]
  },
  {
   "cell_type": "code",
   "execution_count": 1,
   "metadata": {},
   "outputs": [],
   "source": [
    "#definimos una lista\n",
    "lista_1=['o',2,8.6]"
   ]
  },
  {
   "cell_type": "code",
   "execution_count": 2,
   "metadata": {},
   "outputs": [
    {
     "data": {
      "text/plain": [
       "['o', 2, 8.6, 4]"
      ]
     },
     "execution_count": 2,
     "metadata": {},
     "output_type": "execute_result"
    }
   ],
   "source": [
    "#Agregar elementos a una lista\n",
    "lista_1.append(4)\n",
    "lista_1\n"
   ]
  },
  {
   "cell_type": "code",
   "execution_count": 3,
   "metadata": {},
   "outputs": [
    {
     "data": {
      "text/plain": [
       "['o', 2, 8.6, 4, 4, 6, 2]"
      ]
     },
     "execution_count": 3,
     "metadata": {},
     "output_type": "execute_result"
    }
   ],
   "source": [
    "#Agregamos todos los items de un iterable\n",
    "lista_1.extend((4,6,2))\n",
    "lista_1\n"
   ]
  },
  {
   "cell_type": "code",
   "execution_count": 4,
   "metadata": {},
   "outputs": [
    {
     "data": {
      "text/plain": [
       "['o', 2, 8.6, 4, 4, 6, 2, 'key1', 'key2']"
      ]
     },
     "execution_count": 4,
     "metadata": {},
     "output_type": "execute_result"
    }
   ],
   "source": [
    "lista_1.extend({'key1':'valor1','key2':'valor2'})\n",
    "lista_1"
   ]
  },
  {
   "cell_type": "code",
   "execution_count": 5,
   "metadata": {},
   "outputs": [
    {
     "data": {
      "text/plain": [
       "['o', 'a', 2, 8.6, 4, 4, 6, 2, 'key1', 'key2']"
      ]
     },
     "execution_count": 5,
     "metadata": {},
     "output_type": "execute_result"
    }
   ],
   "source": [
    "#Podemos insertar un elemento en una determinada posición\n",
    "lista_1.insert(1,'a')\n",
    "lista_1"
   ]
  },
  {
   "cell_type": "code",
   "execution_count": 6,
   "metadata": {},
   "outputs": [
    {
     "data": {
      "text/plain": [
       "['o', 'a', 8.6, 6, 2]"
      ]
     },
     "execution_count": 6,
     "metadata": {},
     "output_type": "execute_result"
    }
   ],
   "source": [
    "#Podemos remover el primer item de la lista (de izquierda)\n",
    "# a derecha) que sea igual a lo indicado\n",
    "lista_1.remove(4)\n",
    "lista_1.remove(4)\n",
    "lista_1.remove(2)\n",
    "lista_1.remove('key1')\n",
    "lista_1.remove('key2')\n",
    "lista_1"
   ]
  },
  {
   "cell_type": "code",
   "execution_count": 7,
   "metadata": {},
   "outputs": [
    {
     "data": {
      "text/plain": [
       "['o', 'a', 8.6, 2]"
      ]
     },
     "execution_count": 7,
     "metadata": {},
     "output_type": "execute_result"
    }
   ],
   "source": [
    "#Podemos eliminar un elemento en una determinada ubicación\n",
    "#escribiendo el valor del índice, si no se indica el índice\n",
    "#entonces se eliminará y retornará el último elemento \n",
    "#(derecha)\n",
    "lista_1.pop(3)\n",
    "lista_1"
   ]
  },
  {
   "cell_type": "code",
   "execution_count": 8,
   "metadata": {},
   "outputs": [
    {
     "data": {
      "text/plain": [
       "2"
      ]
     },
     "execution_count": 8,
     "metadata": {},
     "output_type": "execute_result"
    }
   ],
   "source": [
    "lista_1.pop()"
   ]
  },
  {
   "cell_type": "code",
   "execution_count": 9,
   "metadata": {},
   "outputs": [
    {
     "data": {
      "text/plain": [
       "['o', 'a', 8.6]"
      ]
     },
     "execution_count": 9,
     "metadata": {},
     "output_type": "execute_result"
    }
   ],
   "source": [
    "lista_1"
   ]
  },
  {
   "cell_type": "code",
   "execution_count": 10,
   "metadata": {},
   "outputs": [
    {
     "data": {
      "text/plain": [
       "[]"
      ]
     },
     "execution_count": 10,
     "metadata": {},
     "output_type": "execute_result"
    }
   ],
   "source": [
    "#Podemos limpiar la lista, es decir, borrar todo\n",
    "lista_1.clear()\n",
    "lista_1"
   ]
  },
  {
   "cell_type": "markdown",
   "metadata": {},
   "source": [
    "Para seguir con los emeplos definimos una nueva lista"
   ]
  },
  {
   "cell_type": "code",
   "execution_count": 11,
   "metadata": {},
   "outputs": [],
   "source": [
    "lista_2=[2,9.8,'j','m','s',4,12,2]"
   ]
  },
  {
   "cell_type": "code",
   "execution_count": 12,
   "metadata": {},
   "outputs": [
    {
     "data": {
      "text/plain": [
       "2"
      ]
     },
     "execution_count": 12,
     "metadata": {},
     "output_type": "execute_result"
    }
   ],
   "source": [
    "#Podemos encontrar el indice de un determinado valor\n",
    "#perteneciente a la lista.\n",
    "#Si el elemento no está obtendremos Error.\n",
    "lista_2.index('j')"
   ]
  },
  {
   "cell_type": "code",
   "execution_count": 13,
   "metadata": {},
   "outputs": [
    {
     "data": {
      "text/plain": [
       "4"
      ]
     },
     "execution_count": 13,
     "metadata": {},
     "output_type": "execute_result"
    }
   ],
   "source": [
    "#Podemos encontrar el índice de un determinado valor\n",
    "#en un slice específo\n",
    "lista_2.index('s',2,5)"
   ]
  },
  {
   "cell_type": "code",
   "execution_count": 14,
   "metadata": {},
   "outputs": [
    {
     "data": {
      "text/plain": [
       "2"
      ]
     },
     "execution_count": 14,
     "metadata": {},
     "output_type": "execute_result"
    }
   ],
   "source": [
    "#Podemos encontrar la cantidad de veces que aparece\n",
    "#el mismo elmento\n",
    "lista_2.count(2)"
   ]
  },
  {
   "cell_type": "code",
   "execution_count": 15,
   "metadata": {},
   "outputs": [
    {
     "data": {
      "text/plain": [
       "[2, 9.8, 4, 12, 2]"
      ]
     },
     "execution_count": 15,
     "metadata": {},
     "output_type": "execute_result"
    }
   ],
   "source": [
    "#Podemos ordenar los elmentos dentro de una lista, para\n",
    "#ello es necesario que sean del mismo tipo, ya que no\n",
    "#podremos mezclar strings y números\n",
    "\n",
    "#Empezamos limpiando la lista de strings\n",
    "lista_2.pop(2)\n",
    "lista_2.pop(2)\n",
    "lista_2.pop(2)\n",
    "lista_2"
   ]
  },
  {
   "cell_type": "code",
   "execution_count": 16,
   "metadata": {},
   "outputs": [
    {
     "data": {
      "text/plain": [
       "[2, 2, 4, 9.8, 12]"
      ]
     },
     "execution_count": 16,
     "metadata": {},
     "output_type": "execute_result"
    }
   ],
   "source": [
    "lista_2.sort()\n",
    "lista_2"
   ]
  },
  {
   "cell_type": "code",
   "execution_count": 17,
   "metadata": {},
   "outputs": [
    {
     "data": {
      "text/plain": [
       "[12, 9.8, 4, 2, 2]"
      ]
     },
     "execution_count": 17,
     "metadata": {},
     "output_type": "execute_result"
    }
   ],
   "source": [
    "#En reversa\n",
    "lista_2.sort(reverse=True)\n",
    "lista_2"
   ]
  },
  {
   "cell_type": "code",
   "execution_count": 18,
   "metadata": {},
   "outputs": [
    {
     "data": {
      "text/plain": [
       "['a', 'o', 'i']"
      ]
     },
     "execution_count": 18,
     "metadata": {},
     "output_type": "execute_result"
    }
   ],
   "source": [
    "#Limpiamos e insertamos strings\n",
    "lista_2.clear()\n",
    "lista_2.extend(['a','o','i'])\n",
    "lista_2"
   ]
  },
  {
   "cell_type": "code",
   "execution_count": 19,
   "metadata": {},
   "outputs": [
    {
     "data": {
      "text/plain": [
       "['a', 'i', 'o']"
      ]
     },
     "execution_count": 19,
     "metadata": {},
     "output_type": "execute_result"
    }
   ],
   "source": [
    "lista_2.sort()\n",
    "lista_2"
   ]
  },
  {
   "cell_type": "code",
   "execution_count": 20,
   "metadata": {},
   "outputs": [
    {
     "data": {
      "text/plain": [
       "['o', 'i', 'a']"
      ]
     },
     "execution_count": 20,
     "metadata": {},
     "output_type": "execute_result"
    }
   ],
   "source": [
    "lista_2.sort(reverse=True)\n",
    "lista_2"
   ]
  },
  {
   "cell_type": "code",
   "execution_count": 21,
   "metadata": {},
   "outputs": [],
   "source": [
    "#Podemos invertir el orden de los elementos de una lista\n",
    "#tal como son presentados\n",
    "lista_3=['a',4,7,'j']"
   ]
  },
  {
   "cell_type": "code",
   "execution_count": 22,
   "metadata": {},
   "outputs": [
    {
     "data": {
      "text/plain": [
       "['j', 7, 4, 'a']"
      ]
     },
     "execution_count": 22,
     "metadata": {},
     "output_type": "execute_result"
    }
   ],
   "source": [
    "lista_3.reverse()\n",
    "lista_3"
   ]
  },
  {
   "cell_type": "code",
   "execution_count": 23,
   "metadata": {
    "scrolled": true
   },
   "outputs": [
    {
     "data": {
      "text/plain": [
       "['j', 7, 4, 'a']"
      ]
     },
     "execution_count": 23,
     "metadata": {},
     "output_type": "execute_result"
    }
   ],
   "source": [
    "#Podemos retornar una copia de una lista\n",
    "lista_copia=lista_3.copy()\n",
    "lista_copia"
   ]
  },
  {
   "cell_type": "code",
   "execution_count": 24,
   "metadata": {
    "scrolled": true
   },
   "outputs": [
    {
     "data": {
      "text/plain": [
       "True"
      ]
     },
     "execution_count": 24,
     "metadata": {},
     "output_type": "execute_result"
    }
   ],
   "source": [
    "#Podemos acveriguar si un elemento está en la lista\n",
    "7 in lista_copia"
   ]
  },
  {
   "cell_type": "code",
   "execution_count": 25,
   "metadata": {},
   "outputs": [
    {
     "data": {
      "text/plain": [
       "False"
      ]
     },
     "execution_count": 25,
     "metadata": {},
     "output_type": "execute_result"
    }
   ],
   "source": [
    "'o' in lista_copia"
   ]
  },
  {
   "cell_type": "markdown",
   "metadata": {},
   "source": [
    "#### 5.1.1. Using Lists as Stacks"
   ]
  },
  {
   "cell_type": "markdown",
   "metadata": {},
   "source": [
    "Abosolutamente nada nuevo que hacer."
   ]
  },
  {
   "cell_type": "markdown",
   "metadata": {},
   "source": [
    "#### 5.1.2. Using Lists as Queues"
   ]
  },
  {
   "cell_type": "markdown",
   "metadata": {},
   "source": [
    "Aquí usaremos un estructura denimnada `deque` (se pronuncia 'Deck') perteneciene al paquete `collections`, los cuales son generalizaciones de las listas y nos permiten más interacción con sus elementos."
   ]
  },
  {
   "cell_type": "code",
   "execution_count": 26,
   "metadata": {},
   "outputs": [],
   "source": [
    "from collections import deque"
   ]
  },
  {
   "cell_type": "code",
   "execution_count": 27,
   "metadata": {},
   "outputs": [
    {
     "data": {
      "text/plain": [
       "deque(['V', 'i', 'v', 'a', 'E', 'l', 'P', 'e', 'r', 'ú'])"
      ]
     },
     "execution_count": 27,
     "metadata": {},
     "output_type": "execute_result"
    }
   ],
   "source": [
    "#La instrucción 'deque' nos permite forma una iterable\n",
    "#de forma similar a lo que vimos con .extend(). Sin\n",
    "#embargo, es importante notar que no es una lista\n",
    "\n",
    "d=deque('VivaElPerú')\n",
    "d"
   ]
  },
  {
   "cell_type": "code",
   "execution_count": 28,
   "metadata": {},
   "outputs": [
    {
     "data": {
      "text/plain": [
       "collections.deque"
      ]
     },
     "execution_count": 28,
     "metadata": {},
     "output_type": "execute_result"
    }
   ],
   "source": [
    "type(d)"
   ]
  },
  {
   "cell_type": "code",
   "execution_count": 29,
   "metadata": {},
   "outputs": [
    {
     "data": {
      "text/plain": [
       "'v'"
      ]
     },
     "execution_count": 29,
     "metadata": {},
     "output_type": "execute_result"
    }
   ],
   "source": [
    "d[2]"
   ]
  },
  {
   "cell_type": "code",
   "execution_count": 30,
   "metadata": {
    "scrolled": false
   },
   "outputs": [
    {
     "data": {
      "text/plain": [
       "'V'"
      ]
     },
     "execution_count": 30,
     "metadata": {},
     "output_type": "execute_result"
    }
   ],
   "source": [
    "#Podemos aplicar todo lo que sabemos de listas, entonces\n",
    "#¿cuál es la novedad?\n",
    "\n",
    "#Devuelve y retorna el elemento al extremo izquierdo\n",
    "d.popleft()"
   ]
  },
  {
   "cell_type": "code",
   "execution_count": 31,
   "metadata": {},
   "outputs": [
    {
     "data": {
      "text/plain": [
       "deque(['i', 'v', 'a', 'E', 'l', 'P', 'e', 'r', 'ú'])"
      ]
     },
     "execution_count": 31,
     "metadata": {},
     "output_type": "execute_result"
    }
   ],
   "source": [
    "d"
   ]
  },
  {
   "cell_type": "code",
   "execution_count": 32,
   "metadata": {},
   "outputs": [],
   "source": [
    "#Podemos agregar los elementos de un iterable de forma\n",
    "#inversa (por la izquierda)\n",
    "d.extendleft('LaCasaRosada')"
   ]
  },
  {
   "cell_type": "code",
   "execution_count": 33,
   "metadata": {},
   "outputs": [
    {
     "data": {
      "text/plain": [
       "deque(['a',\n",
       "       'd',\n",
       "       'a',\n",
       "       's',\n",
       "       'o',\n",
       "       'R',\n",
       "       'a',\n",
       "       's',\n",
       "       'a',\n",
       "       'C',\n",
       "       'a',\n",
       "       'L',\n",
       "       'i',\n",
       "       'v',\n",
       "       'a',\n",
       "       'E',\n",
       "       'l',\n",
       "       'P',\n",
       "       'e',\n",
       "       'r',\n",
       "       'ú'])"
      ]
     },
     "execution_count": 33,
     "metadata": {},
     "output_type": "execute_result"
    }
   ],
   "source": [
    "d"
   ]
  },
  {
   "cell_type": "code",
   "execution_count": 34,
   "metadata": {},
   "outputs": [
    {
     "data": {
      "text/plain": [
       "['a',\n",
       " 'd',\n",
       " 'a',\n",
       " 's',\n",
       " 'o',\n",
       " 'R',\n",
       " 'a',\n",
       " 's',\n",
       " 'a',\n",
       " 'C',\n",
       " 'a',\n",
       " 'L',\n",
       " 'i',\n",
       " 'v',\n",
       " 'a',\n",
       " 'E',\n",
       " 'l',\n",
       " 'P',\n",
       " 'e',\n",
       " 'r',\n",
       " 'ú']"
      ]
     },
     "execution_count": 34,
     "metadata": {},
     "output_type": "execute_result"
    }
   ],
   "source": [
    "#Podemos almacenar todos los elementos del 'deck'\n",
    "#dentro de una lista\n",
    "list(d)"
   ]
  },
  {
   "cell_type": "code",
   "execution_count": 35,
   "metadata": {},
   "outputs": [
    {
     "data": {
      "text/plain": [
       "<_collections._deque_reverse_iterator at 0x7fd9a136c040>"
      ]
     },
     "execution_count": 35,
     "metadata": {},
     "output_type": "execute_result"
    }
   ],
   "source": [
    "#Puede invertir los elementos del 'deck' pero no realiza\n",
    "#ese cambio en el 'deck'\n",
    "reversed(d)"
   ]
  },
  {
   "cell_type": "code",
   "execution_count": 36,
   "metadata": {},
   "outputs": [
    {
     "data": {
      "text/plain": [
       "deque(['a',\n",
       "       'd',\n",
       "       'a',\n",
       "       's',\n",
       "       'o',\n",
       "       'R',\n",
       "       'a',\n",
       "       's',\n",
       "       'a',\n",
       "       'C',\n",
       "       'a',\n",
       "       'L',\n",
       "       'i',\n",
       "       'v',\n",
       "       'a',\n",
       "       'E',\n",
       "       'l',\n",
       "       'P',\n",
       "       'e',\n",
       "       'r',\n",
       "       'ú'])"
      ]
     },
     "execution_count": 36,
     "metadata": {},
     "output_type": "execute_result"
    }
   ],
   "source": [
    "d"
   ]
  },
  {
   "cell_type": "code",
   "execution_count": 37,
   "metadata": {
    "scrolled": true
   },
   "outputs": [
    {
     "data": {
      "text/plain": [
       "['ú',\n",
       " 'r',\n",
       " 'e',\n",
       " 'P',\n",
       " 'l',\n",
       " 'E',\n",
       " 'a',\n",
       " 'v',\n",
       " 'i',\n",
       " 'L',\n",
       " 'a',\n",
       " 'C',\n",
       " 'a',\n",
       " 's',\n",
       " 'a',\n",
       " 'R',\n",
       " 'o',\n",
       " 's',\n",
       " 'a',\n",
       " 'd',\n",
       " 'a']"
      ]
     },
     "execution_count": 37,
     "metadata": {},
     "output_type": "execute_result"
    }
   ],
   "source": [
    "#Sin embargo, podemos imprimirlo en una lista o un nuevo\n",
    "#'Deck'\n",
    "list(reversed(d))"
   ]
  },
  {
   "cell_type": "code",
   "execution_count": 38,
   "metadata": {},
   "outputs": [
    {
     "data": {
      "text/plain": [
       "deque(['ú',\n",
       "       'r',\n",
       "       'e',\n",
       "       'P',\n",
       "       'l',\n",
       "       'E',\n",
       "       'a',\n",
       "       'v',\n",
       "       'i',\n",
       "       'L',\n",
       "       'a',\n",
       "       'C',\n",
       "       'a',\n",
       "       's',\n",
       "       'a',\n",
       "       'R',\n",
       "       'o',\n",
       "       's',\n",
       "       'a',\n",
       "       'd',\n",
       "       'a'])"
      ]
     },
     "execution_count": 38,
     "metadata": {},
     "output_type": "execute_result"
    }
   ],
   "source": [
    "deque(reversed(d))"
   ]
  },
  {
   "cell_type": "code",
   "execution_count": 39,
   "metadata": {},
   "outputs": [
    {
     "data": {
      "text/plain": [
       "deque(['a',\n",
       "       'd',\n",
       "       'a',\n",
       "       's',\n",
       "       'o',\n",
       "       'R',\n",
       "       'a',\n",
       "       's',\n",
       "       'a',\n",
       "       'C',\n",
       "       'a',\n",
       "       'L',\n",
       "       'i',\n",
       "       'v',\n",
       "       'a',\n",
       "       'E',\n",
       "       'l',\n",
       "       'P',\n",
       "       'e',\n",
       "       'r',\n",
       "       'ú'])"
      ]
     },
     "execution_count": 39,
     "metadata": {},
     "output_type": "execute_result"
    }
   ],
   "source": [
    "#Podemos realizar una rotación de elementos hacia la\n",
    "#derecha o izquierda en una cierta cantidad de posiciones\n",
    "d"
   ]
  },
  {
   "cell_type": "code",
   "execution_count": 40,
   "metadata": {},
   "outputs": [
    {
     "data": {
      "text/plain": [
       "deque(['r',\n",
       "       'ú',\n",
       "       'a',\n",
       "       'd',\n",
       "       'a',\n",
       "       's',\n",
       "       'o',\n",
       "       'R',\n",
       "       'a',\n",
       "       's',\n",
       "       'a',\n",
       "       'C',\n",
       "       'a',\n",
       "       'L',\n",
       "       'i',\n",
       "       'v',\n",
       "       'a',\n",
       "       'E',\n",
       "       'l',\n",
       "       'P',\n",
       "       'e'])"
      ]
     },
     "execution_count": 40,
     "metadata": {},
     "output_type": "execute_result"
    }
   ],
   "source": [
    "d.rotate(2) #->Rota dos posiciones hacia la derecha\n",
    "d"
   ]
  },
  {
   "cell_type": "code",
   "execution_count": 41,
   "metadata": {},
   "outputs": [
    {
     "data": {
      "text/plain": [
       "deque(['a',\n",
       "       'd',\n",
       "       'a',\n",
       "       's',\n",
       "       'o',\n",
       "       'R',\n",
       "       'a',\n",
       "       's',\n",
       "       'a',\n",
       "       'C',\n",
       "       'a',\n",
       "       'L',\n",
       "       'i',\n",
       "       'v',\n",
       "       'a',\n",
       "       'E',\n",
       "       'l',\n",
       "       'P',\n",
       "       'e',\n",
       "       'r',\n",
       "       'ú'])"
      ]
     },
     "execution_count": 41,
     "metadata": {},
     "output_type": "execute_result"
    }
   ],
   "source": [
    "d.rotate(-2) #->Rota dos posiciones hacia la izquierda\n",
    "d"
   ]
  },
  {
   "cell_type": "markdown",
   "metadata": {},
   "source": [
    "#### 5.1.3. List Comprehensions"
   ]
  },
  {
   "cell_type": "markdown",
   "metadata": {},
   "source": [
    "Esta es la forma de crear una lista a partir de una regla de correspondencia usando el bucle **for**. La estrcutura es:\n",
    "\n",
    "`\n",
    "[valor_a_devolver for cuerpo_del_for]\n",
    "`"
   ]
  },
  {
   "cell_type": "code",
   "execution_count": 42,
   "metadata": {},
   "outputs": [
    {
     "data": {
      "text/plain": [
       "[8, 27, 64, 125, 216, 343]"
      ]
     },
     "execution_count": 42,
     "metadata": {},
     "output_type": "execute_result"
    }
   ],
   "source": [
    "cubos=[x**3 for x in range(2,8)]\n",
    "cubos"
   ]
  },
  {
   "cell_type": "code",
   "execution_count": 43,
   "metadata": {},
   "outputs": [
    {
     "data": {
      "text/plain": [
       "[(2, 5), (2, 7), (2, 9), (3, 5), (3, 7), (3, 9), (4, 5), (4, 7), (4, 9)]"
      ]
     },
     "execution_count": 43,
     "metadata": {},
     "output_type": "execute_result"
    }
   ],
   "source": [
    "prod_carte=[(x,y) for x in [2,3,4,] for y in [5,7,9]]\n",
    "prod_carte"
   ]
  },
  {
   "cell_type": "code",
   "execution_count": 44,
   "metadata": {},
   "outputs": [
    {
     "data": {
      "text/plain": [
       "[5, 9]"
      ]
     },
     "execution_count": 44,
     "metadata": {},
     "output_type": "execute_result"
    }
   ],
   "source": [
    "lista_4=[-3,+5,9,-12]\n",
    "posi=[x for x in lista_4 if x>=0]\n",
    "posi"
   ]
  },
  {
   "cell_type": "code",
   "execution_count": 45,
   "metadata": {},
   "outputs": [
    {
     "data": {
      "text/plain": [
       "[3, 5, 9, 12]"
      ]
     },
     "execution_count": 45,
     "metadata": {},
     "output_type": "execute_result"
    }
   ],
   "source": [
    "abso=[abs(x) for x in lista_4]\n",
    "abso"
   ]
  },
  {
   "cell_type": "code",
   "execution_count": 46,
   "metadata": {},
   "outputs": [
    {
     "data": {
      "text/plain": [
       "[(-3, 9), (5, 25), (9, 81), (-12, 144)]"
      ]
     },
     "execution_count": 46,
     "metadata": {},
     "output_type": "execute_result"
    }
   ],
   "source": [
    "cuadrado=[(x,x**2) for x in lista_4]\n",
    "cuadrado"
   ]
  },
  {
   "cell_type": "code",
   "execution_count": 47,
   "metadata": {},
   "outputs": [
    {
     "data": {
      "text/plain": [
       "[1, 2, 3, 4, 5, 6, 7, 8, 9]"
      ]
     },
     "execution_count": 47,
     "metadata": {},
     "output_type": "execute_result"
    }
   ],
   "source": [
    "lista_5=[[1,2,3],[4,5,6],[7,8,9]]\n",
    "num=[i for x in lista_5 for i in x]\n",
    "num"
   ]
  },
  {
   "cell_type": "markdown",
   "metadata": {},
   "source": [
    "#### 5.1.4. Nested List Comprehensions"
   ]
  },
  {
   "cell_type": "code",
   "execution_count": 48,
   "metadata": {},
   "outputs": [
    {
     "data": {
      "text/plain": [
       "[[1, 2, 3, 4], [5, 6, 7, 8], [9, 10, 11, 12]]"
      ]
     },
     "execution_count": 48,
     "metadata": {},
     "output_type": "execute_result"
    }
   ],
   "source": [
    "#Creamos una lista y la llamaremos matriz\n",
    "matriz=[\n",
    "    [1,2,3,4],\n",
    "    [5,6,7,8],\n",
    "    [9,10,11,12]\n",
    "]\n",
    "matriz"
   ]
  },
  {
   "cell_type": "code",
   "execution_count": 49,
   "metadata": {},
   "outputs": [
    {
     "name": "stdout",
     "output_type": "stream",
     "text": [
      "[1, 2, 3, 4] fila 1\n",
      "[5, 6, 7, 8] fila 2\n",
      "[9, 10, 11, 12] fila 3\n"
     ]
    }
   ],
   "source": [
    "#Cada elemento en la lista es otra lista, y desde el punto\n",
    "#de vista de la matriz podemos decir que son las filas. \n",
    "\n",
    "n=1\n",
    "for i in matriz:\n",
    "    print(i,'fila',n)\n",
    "    n=n+1\n"
   ]
  },
  {
   "cell_type": "code",
   "execution_count": 50,
   "metadata": {},
   "outputs": [
    {
     "data": {
      "text/plain": [
       "[[1, 5, 9], [2, 6, 10], [3, 7, 11], [4, 8, 12]]"
      ]
     },
     "execution_count": 50,
     "metadata": {},
     "output_type": "execute_result"
    }
   ],
   "source": [
    "#Por lo tanto, para obtener la matriz transpuesta\n",
    "#necesitamos tomar el primer elemento de cada fila y formar\n",
    "#una lista, luego el segundo, y así hasta el cuarto.\n",
    "\n",
    "[[fila[i] for fila in matriz] for i in range(4)]"
   ]
  },
  {
   "cell_type": "code",
   "execution_count": 51,
   "metadata": {},
   "outputs": [
    {
     "data": {
      "text/plain": [
       "<zip at 0x7fd9a1472280>"
      ]
     },
     "execution_count": 51,
     "metadata": {},
     "output_type": "execute_result"
    }
   ],
   "source": [
    "#También podemos la instrucción 'zip()', la cual elabora\n",
    "#tuplas, tal que la 1ra tupla está conformada por los 1ros\n",
    "#elementos de los iterables llamados, la 2da tupla de forma\n",
    "#análoga y así sucesivamente.\n",
    "\n",
    "x=[1,2,3,4]\n",
    "y=[5,6,7,8]\n",
    "z=[9,19,11,12]\n",
    "\n",
    "#No imprime, debemos crear un iterable que lo contenga\n",
    "zip(x,y,z)"
   ]
  },
  {
   "cell_type": "code",
   "execution_count": 52,
   "metadata": {},
   "outputs": [
    {
     "data": {
      "text/plain": [
       "[(1, 5, 9), (2, 6, 19), (3, 7, 11), (4, 8, 12)]"
      ]
     },
     "execution_count": 52,
     "metadata": {},
     "output_type": "execute_result"
    }
   ],
   "source": [
    "zip1=list(zip(x,y,z))\n",
    "zip1"
   ]
  },
  {
   "cell_type": "code",
   "execution_count": 53,
   "metadata": {},
   "outputs": [
    {
     "data": {
      "text/plain": [
       "[(1, 2, 3, 4), (5, 6, 7, 8), (9, 19, 11, 12)]"
      ]
     },
     "execution_count": 53,
     "metadata": {},
     "output_type": "execute_result"
    }
   ],
   "source": [
    "#También podemos aplicar el 'unzip' de una estructura\n",
    "#que puede tener listas o tuplas\n",
    "zip2=list(zip(*zip1))\n",
    "zip2"
   ]
  },
  {
   "cell_type": "code",
   "execution_count": 54,
   "metadata": {},
   "outputs": [
    {
     "data": {
      "text/plain": [
       "[(1, 5, 9), (2, 6, 10), (3, 7, 11), (4, 8, 12)]"
      ]
     },
     "execution_count": 54,
     "metadata": {},
     "output_type": "execute_result"
    }
   ],
   "source": [
    "#De esa forma obtendríamos la matriz transpuesta, cuyas\n",
    "#filas son tuplas\n",
    "m_trans=list(zip(*matriz))\n",
    "m_trans"
   ]
  },
  {
   "cell_type": "code",
   "execution_count": 55,
   "metadata": {},
   "outputs": [
    {
     "data": {
      "text/plain": [
       "[(1, 2, 3, 4), (5, 6, 7, 8), (9, 10, 11, 12)]"
      ]
     },
     "execution_count": 55,
     "metadata": {},
     "output_type": "execute_result"
    }
   ],
   "source": [
    "#De igual forma la matriz original, cuyas filas\n",
    "#son tuplas\n",
    "list(zip(*m_trans))"
   ]
  }
 ],
 "metadata": {
  "kernelspec": {
   "display_name": "Python 3",
   "language": "python",
   "name": "python3"
  },
  "language_info": {
   "codemirror_mode": {
    "name": "ipython",
    "version": 3
   },
   "file_extension": ".py",
   "mimetype": "text/x-python",
   "name": "python",
   "nbconvert_exporter": "python",
   "pygments_lexer": "ipython3",
   "version": "3.8.3"
  }
 },
 "nbformat": 4,
 "nbformat_minor": 4
}
